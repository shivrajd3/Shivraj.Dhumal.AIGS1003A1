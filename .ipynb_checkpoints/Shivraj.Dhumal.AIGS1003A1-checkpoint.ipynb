{
 "cells": [
  {
   "cell_type": "markdown",
   "id": "aefaf5b1-bf2f-4db1-9392-0c41d066198b",
   "metadata": {},
   "source": [
    "## Ans to Question 0"
   ]
  },
  {
   "cell_type": "code",
   "execution_count": 6,
   "id": "00300199-5d74-47ba-ab66-d0b192dc5dd5",
   "metadata": {},
   "outputs": [],
   "source": [
    "#================"
   ]
  },
  {
   "cell_type": "code",
   "execution_count": 8,
   "id": "9f541faa-e919-4652-af08-89999c885483",
   "metadata": {},
   "outputs": [],
   "source": [
    "# On the discussion board"
   ]
  },
  {
   "cell_type": "code",
   "execution_count": 7,
   "id": "fa722a5f-e64c-4940-991f-6c1db314bd9b",
   "metadata": {},
   "outputs": [],
   "source": [
    "#================"
   ]
  },
  {
   "cell_type": "markdown",
   "id": "767353b1-330d-4efa-a94d-a34b462ff818",
   "metadata": {},
   "source": [
    "## Ans to Question 1"
   ]
  },
  {
   "cell_type": "code",
   "execution_count": 10,
   "id": "f8da8535-6ae9-42fa-af63-096e7ff53142",
   "metadata": {},
   "outputs": [],
   "source": [
    "#================"
   ]
  },
  {
   "cell_type": "markdown",
   "id": "d36eb78b-bce8-43cf-a92a-6eb503b298f1",
   "metadata": {},
   "source": [
    "##### Explanation of the approach: The training data provides us with four expressions and their corresponding category. Using Naive Bayes' theorem we can find the probabilities that the test expresssion for each category and then pick the one with the highest probability. According to the question, we are only supposed to decompose the joint distribution."
   ]
  },
  {
   "cell_type": "markdown",
   "id": "2712b0c9-b99d-48cd-8a10-1829a0d7f513",
   "metadata": {},
   "source": [
    "##### Naive Bayes theorem is expressed as:\n",
    "\n",
    "P(A|B) = (P(B|A) x P(A)) / P(B)"
   ]
  },
  {
   "cell_type": "markdown",
   "id": "761d8c0d-1d69-4376-b84c-9d987b2f2f74",
   "metadata": {},
   "source": [
    "#### 1. Finding P(sunny|a cone of ice cream)"
   ]
  },
  {
   "cell_type": "markdown",
   "id": "815971d1-cdfc-466d-9070-f221c6e0a918",
   "metadata": {},
   "source": [
    "##### P(sunny|a cone of ice cream) "
   ]
  },
  {
   "cell_type": "markdown",
   "id": "66ba8284-531d-4897-8c8f-2aee240e2786",
   "metadata": {},
   "source": [
    "##### = (P(a cone of ice cream|sunny) x P(sunny)) / P(a cone of ice cream)"
   ]
  },
  {
   "cell_type": "markdown",
   "id": "3fee70b4-0cb8-44c8-b594-aed8558c07aa",
   "metadata": {},
   "source": [
    "##### = ((P(a|sunny) x P(cone|sunny) x P(of|sunny) x P(ice|sunny) x P(cream|sunny)) x P(sunny)) / (P(a) x P(cone) x P(of) x P(ice) x P(cream))"
   ]
  },
  {
   "cell_type": "markdown",
   "id": "394a56c8-ac35-49d7-9d7d-c4d32bdf7f05",
   "metadata": {},
   "source": [
    "#### 2. Finding P(rainy|a cup of hot coffee)"
   ]
  },
  {
   "cell_type": "markdown",
   "id": "9b383501-e720-4371-bcff-8b6baa81e609",
   "metadata": {},
   "source": [
    "##### P(rainy|a cup of hot coffee)"
   ]
  },
  {
   "cell_type": "markdown",
   "id": "7d176432-8378-44d9-a7ab-34b709692f03",
   "metadata": {},
   "source": [
    "##### = (P(a cup of hot coffee|rainy) x P(rainy)) / P(a cup of hot coffee)"
   ]
  },
  {
   "cell_type": "markdown",
   "id": "e8b9f64c-1a4d-45b3-9946-33d8c2e921ba",
   "metadata": {},
   "source": [
    "##### = ((P(a|rainy) x P(cup|rainy) x P(of|rainy) x P(coffee|rainy)) x P(rainy)) / (P(a) x P(cup) x P(of) x P(hot) x P(coffee))"
   ]
  },
  {
   "cell_type": "code",
   "execution_count": 7,
   "id": "83b68c15-9eca-4089-b77d-099a3cdd9abd",
   "metadata": {},
   "outputs": [],
   "source": [
    "#================"
   ]
  },
  {
   "cell_type": "markdown",
   "id": "41ea0b3e-a811-447e-bb7a-19deec940867",
   "metadata": {},
   "source": [
    "## Ans to Question 3"
   ]
  },
  {
   "cell_type": "code",
   "execution_count": 3,
   "id": "ab52cdae-10d2-460e-a8dd-0c78201b5d6a",
   "metadata": {},
   "outputs": [
    {
     "name": "stdout",
     "output_type": "stream",
     "text": [
      "Doing classification\n",
      "--------------------\n",
      "data:\t\tdigits\n",
      "classifier:\t\tnaiveBayes\n",
      "training set size:\t100\n",
      "using automatic tuning for naivebayes\n",
      "trying to read: digitdata/trainingimages\n",
      "testing\n",
      "trying to read: digitdata/traininglabels\n",
      "testing\n",
      "trying to read: digitdata/validationimages\n",
      "testing\n",
      "trying to read: digitdata/validationlabels\n",
      "testing\n",
      "trying to read: digitdata/testimages\n",
      "testing\n",
      "trying to read: digitdata/testlabels\n",
      "testing\n",
      "Extracting features...\n",
      "Training...\n",
      "Validating...\n",
      "('74', 'correct out of 100 (74.0%).')\n",
      "Testing...\n",
      "('65', 'correct out of 100 (65.0%).')\n",
      "===================================\n",
      "Mistake on example 3\n",
      "Predicted 3; truth is 5\n",
      "Image: \n",
      "                            \n",
      "                            \n",
      "                            \n",
      "                            \n",
      "                            \n",
      "          +#########+       \n",
      "         +###########+      \n",
      "         ############+      \n",
      "         ############       \n",
      "         ####+++#####       \n",
      "         +##+     +++       \n",
      "         +###++++           \n",
      "          ########+         \n",
      "          #########+        \n",
      "          ##########+       \n",
      "          +##########       \n",
      "           +++  ++###+      \n",
      "                  +###      \n",
      "      ++           ###      \n",
      "     +###++       +###      \n",
      "      ######++   +###+      \n",
      "      ++#############       \n",
      "       ++###########+       \n",
      "         +#########+        \n",
      "           ++####++         \n",
      "                            \n",
      "                            \n",
      "                            \n"
     ]
    }
   ],
   "source": [
    "%run dataClassifier.py -c naiveBayes --autotune"
   ]
  },
  {
   "cell_type": "code",
   "execution_count": null,
   "id": "6b53e364-e6bd-4951-a9e3-49b3f639e904",
   "metadata": {},
   "outputs": [],
   "source": []
  }
 ],
 "metadata": {
  "kernelspec": {
   "display_name": "Python 3 (ipykernel)",
   "language": "python",
   "name": "python3"
  },
  "language_info": {
   "codemirror_mode": {
    "name": "ipython",
    "version": 3
   },
   "file_extension": ".py",
   "mimetype": "text/x-python",
   "name": "python",
   "nbconvert_exporter": "python",
   "pygments_lexer": "ipython3",
   "version": "3.8.10"
  }
 },
 "nbformat": 4,
 "nbformat_minor": 5
}
